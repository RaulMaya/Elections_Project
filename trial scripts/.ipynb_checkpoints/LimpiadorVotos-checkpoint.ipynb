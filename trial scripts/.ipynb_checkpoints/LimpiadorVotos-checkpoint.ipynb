{
 "cells": [
  {
   "cell_type": "code",
   "execution_count": 1,
   "id": "b643e79a",
   "metadata": {},
   "outputs": [],
   "source": [
    "import pandas as pd\n",
    "import numpy as np"
   ]
  },
  {
   "cell_type": "code",
   "execution_count": null,
   "id": "d5c86b4e",
   "metadata": {},
   "outputs": [],
   "source": [
    "my_content = pd.read_csv('NL_AYUN_2018.csv')"
   ]
  },
  {
   "cell_type": "code",
   "execution_count": null,
   "id": "b9e2dbcd",
   "metadata": {},
   "outputs": [],
   "source": [
    "group = my_content.groupby('MUNICIPIO')"
   ]
  },
  {
   "cell_type": "code",
   "execution_count": null,
   "id": "7e0934ec",
   "metadata": {},
   "outputs": [],
   "source": [
    "NL_AYUN_2018 = group.sum()"
   ]
  },
  {
   "cell_type": "code",
   "execution_count": null,
   "id": "0e368034",
   "metadata": {},
   "outputs": [],
   "source": [
    "NL_AYUN_2018.head()"
   ]
  }
 ],
 "metadata": {
  "kernelspec": {
   "display_name": "Python 3",
   "language": "python",
   "name": "python3"
  },
  "language_info": {
   "codemirror_mode": {
    "name": "ipython",
    "version": 3
   },
   "file_extension": ".py",
   "mimetype": "text/x-python",
   "name": "python",
   "nbconvert_exporter": "python",
   "pygments_lexer": "ipython3",
   "version": "3.8.8"
  }
 },
 "nbformat": 4,
 "nbformat_minor": 5
}
