{
 "cells": [
  {
   "cell_type": "markdown",
<<<<<<< HEAD
=======
   "id": "29ec283e",
>>>>>>> d8b612574bdf002069da1dc340858e16d26750bb
   "metadata": {},
   "source": [
    "## Import from Mongo DB"
   ]
  },
  {
   "cell_type": "code",
<<<<<<< HEAD
   "execution_count": 5,
=======
   "execution_count": 14,
   "id": "4a9cbe7f",
>>>>>>> d8b612574bdf002069da1dc340858e16d26750bb
   "metadata": {},
   "outputs": [],
   "source": [
    "## Dependencies\n",
    "import pymongo\n",
    "from bson.json_util import dumps, loads"
   ]
  },
  {
   "cell_type": "code",
<<<<<<< HEAD
   "execution_count": 6,
=======
   "execution_count": 3,
   "id": "d72f1fd0",
>>>>>>> d8b612574bdf002069da1dc340858e16d26750bb
   "metadata": {},
   "outputs": [],
   "source": [
    "## Setup Database connection (MongoDB)\n",
    "conn = 'mongodb://localhost:27017'\n",
    "client = pymongo.MongoClient(conn)\n",
    "\n",
    "## Define database in Mongo\n",
    "db = client.Elections_DB"
   ]
  },
  {
   "cell_type": "code",
<<<<<<< HEAD
   "execution_count": 7,
=======
   "execution_count": 25,
   "id": "663a7661",
>>>>>>> d8b612574bdf002069da1dc340858e16d26750bb
   "metadata": {},
   "outputs": [],
   "source": [
    "cursor = db.id_municipios.find({}, {'_id': False})\n",
    "list_cur = list(cursor)"
   ]
  },
  {
   "cell_type": "code",
<<<<<<< HEAD
   "execution_count": 8,
=======
   "execution_count": 31,
   "id": "cc0c584f",
>>>>>>> d8b612574bdf002069da1dc340858e16d26750bb
   "metadata": {},
   "outputs": [
    {
     "data": {
      "text/plain": [
       "{'ID': 19001, 'Municipio': 'Abasolo'}"
      ]
     },
<<<<<<< HEAD
     "execution_count": 8,
=======
     "execution_count": 31,
>>>>>>> d8b612574bdf002069da1dc340858e16d26750bb
     "metadata": {},
     "output_type": "execute_result"
    }
   ],
   "source": [
    "list_cur[0]"
   ]
  },
  {
   "cell_type": "code",
<<<<<<< HEAD
   "execution_count": 9,
=======
   "execution_count": 27,
   "id": "bd866383",
>>>>>>> d8b612574bdf002069da1dc340858e16d26750bb
   "metadata": {},
   "outputs": [],
   "source": [
    "json_data = dumps(list_cur)"
   ]
  },
  {
   "cell_type": "code",
<<<<<<< HEAD
   "execution_count": 10,
=======
   "execution_count": 32,
   "id": "43a0ab63",
>>>>>>> d8b612574bdf002069da1dc340858e16d26750bb
   "metadata": {},
   "outputs": [
    {
     "data": {
      "text/plain": [
       "'['"
      ]
     },
<<<<<<< HEAD
     "execution_count": 10,
=======
     "execution_count": 32,
>>>>>>> d8b612574bdf002069da1dc340858e16d26750bb
     "metadata": {},
     "output_type": "execute_result"
    }
   ],
   "source": [
    "json_data[0]"
   ]
  },
  {
   "cell_type": "code",
<<<<<<< HEAD
   "execution_count": 11,
=======
   "execution_count": 33,
   "id": "12a7918e",
>>>>>>> d8b612574bdf002069da1dc340858e16d26750bb
   "metadata": {},
   "outputs": [
    {
     "ename": "SyntaxError",
<<<<<<< HEAD
     "evalue": "invalid syntax (<ipython-input-11-59a53f0aad35>, line 1)",
=======
     "evalue": "invalid syntax (<ipython-input-33-59a53f0aad35>, line 1)",
>>>>>>> d8b612574bdf002069da1dc340858e16d26750bb
     "output_type": "error",
     "traceback": [
      "\u001b[1;36m  File \u001b[1;32m\"<ipython-input-11-59a53f0aad35>\"\u001b[1;36m, line \u001b[1;32m1\u001b[0m\n\u001b[1;33m    STOP CODE HERE!!\u001b[0m\n\u001b[1;37m         ^\u001b[0m\n\u001b[1;31mSyntaxError\u001b[0m\u001b[1;31m:\u001b[0m invalid syntax\n"
     ]
    }
   ],
   "source": [
    "STOP CODE HERE!!"
   ]
  },
  {
   "cell_type": "code",
<<<<<<< HEAD
   "execution_count": 12,
=======
   "execution_count": 29,
   "id": "289205bf",
>>>>>>> d8b612574bdf002069da1dc340858e16d26750bb
   "metadata": {},
   "outputs": [],
   "source": [
    "with open('data.json', 'w') as file:\n",
    "    file.write(json_data)"
   ]
  },
  {
   "cell_type": "code",
   "execution_count": null,
<<<<<<< HEAD
=======
   "id": "71ed6d3b",
>>>>>>> d8b612574bdf002069da1dc340858e16d26750bb
   "metadata": {},
   "outputs": [],
   "source": []
  }
 ],
 "metadata": {
  "kernelspec": {
   "display_name": "Python 3",
   "language": "python",
   "name": "python3"
  },
  "language_info": {
   "codemirror_mode": {
    "name": "ipython",
    "version": 3
   },
   "file_extension": ".py",
   "mimetype": "text/x-python",
   "name": "python",
   "nbconvert_exporter": "python",
   "pygments_lexer": "ipython3",
   "version": "3.8.8"
  }
 },
 "nbformat": 4,
 "nbformat_minor": 5
}
