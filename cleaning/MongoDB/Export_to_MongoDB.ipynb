{
 "cells": [
  {
   "cell_type": "markdown",
   "id": "bfd7f389",
   "metadata": {},
   "source": [
    "## Export to MongoDB"
   ]
  },
  {
   "cell_type": "code",
   "execution_count": 1,
   "id": "c6dfaa3b",
   "metadata": {},
   "outputs": [],
   "source": [
    "## Dependencies\n",
    "import pymongo\n",
    "import json"
   ]
  },
  {
   "cell_type": "code",
   "execution_count": 2,
   "id": "774e712e",
   "metadata": {},
   "outputs": [],
   "source": [
    "## Setup database connection (MongoDB)\n",
    "conn = 'mongodb://localhost:27017'\n",
    "client = pymongo.MongoClient(conn)\n",
    "\n",
    "## Drop existing database\n",
    "client.drop_database('Elections_DB')\n",
    "\n",
    "## Set database variable\n",
    "db = client.Elections_DB"
   ]
  },
  {
   "cell_type": "markdown",
   "id": "2c9ad0a5",
   "metadata": {},
   "source": [
    "### Mapa Nuevo León (GeoJSON)"
   ]
  },
  {
   "cell_type": "code",
   "execution_count": 3,
   "id": "afc4846b",
   "metadata": {},
   "outputs": [
    {
     "data": {
      "text/plain": [
       "<pymongo.results.InsertOneResult at 0x1dff6d7e308>"
      ]
     },
     "execution_count": 3,
     "metadata": {},
     "output_type": "execute_result"
    }
   ],
   "source": [
    "with open(\"../../resources/maps/NYU-NL-geojson.json\") as file:\n",
    "  file_data = json.load(file)\n",
    "\n",
    "db.nl_geojson.insert_one(file_data)"
   ]
  },
  {
   "cell_type": "markdown",
   "id": "c461a326",
   "metadata": {},
   "source": [
    "### Id Municipios"
   ]
  },
  {
   "cell_type": "code",
   "execution_count": 4,
   "id": "1a24d42c",
   "metadata": {},
   "outputs": [
    {
     "data": {
      "text/plain": [
       "<pymongo.results.InsertManyResult at 0x1dff592cbc8>"
      ]
     },
     "execution_count": 4,
     "metadata": {},
     "output_type": "execute_result"
    }
   ],
   "source": [
    "with open(\"../output/id_municipios.json\") as file:\n",
    "  file_data = json.load(file)\n",
    "\n",
    "db.id_municipios.insert_many(file_data)"
   ]
  },
  {
   "cell_type": "markdown",
   "id": "19a7109d",
   "metadata": {},
   "source": [
    "### Resultadios Elecciones"
   ]
  },
  {
   "cell_type": "code",
   "execution_count": 5,
   "id": "7686266c",
   "metadata": {},
   "outputs": [
    {
     "data": {
      "text/plain": [
       "<pymongo.results.InsertManyResult at 0x1dff6d87f48>"
      ]
     },
     "execution_count": 5,
     "metadata": {},
     "output_type": "execute_result"
    }
   ],
   "source": [
    "with open(\"../output/resultados_a2015.json\") as file:\n",
    "  file_data = json.load(file)\n",
    "\n",
    "db.resultados_a2015.insert_many(file_data)"
   ]
  },
  {
   "cell_type": "code",
   "execution_count": 6,
   "id": "d54e4b46",
   "metadata": {},
   "outputs": [
    {
     "data": {
      "text/plain": [
       "<pymongo.results.InsertManyResult at 0x1dff5e2e908>"
      ]
     },
     "execution_count": 6,
     "metadata": {},
     "output_type": "execute_result"
    }
   ],
   "source": [
    "with open(\"../output/resultados_a2018.json\") as file:\n",
    "  file_data = json.load(file)\n",
    "\n",
    "db.resultados_a2018.insert_many(file_data)  "
   ]
  },
  {
   "cell_type": "code",
   "execution_count": 7,
   "id": "2a933da8",
   "metadata": {},
   "outputs": [
    {
     "data": {
      "text/plain": [
       "<pymongo.results.InsertManyResult at 0x1dff571adc8>"
      ]
     },
     "execution_count": 7,
     "metadata": {},
     "output_type": "execute_result"
    }
   ],
   "source": [
    "with open(\"../output/resultados_a2021.json\") as file:\n",
    "  file_data = json.load(file)\n",
    "\n",
    "db.resultados_a2021.insert_many(file_data)  "
   ]
  },
  {
   "cell_type": "code",
   "execution_count": 8,
   "id": "40e81120",
   "metadata": {},
   "outputs": [
    {
     "data": {
      "text/plain": [
       "<pymongo.results.InsertManyResult at 0x1dff5f7eec8>"
      ]
     },
     "execution_count": 8,
     "metadata": {},
     "output_type": "execute_result"
    }
   ],
   "source": [
    "with open(\"../output/resultados_g2015.json\") as file:\n",
    "  file_data = json.load(file)\n",
    "db.resultados_g2015.insert_many(file_data)"
   ]
  },
  {
   "cell_type": "code",
   "execution_count": 9,
   "id": "640b689c",
   "metadata": {},
   "outputs": [
    {
     "data": {
      "text/plain": [
       "<pymongo.results.InsertManyResult at 0x1dff5937588>"
      ]
     },
     "execution_count": 9,
     "metadata": {},
     "output_type": "execute_result"
    }
   ],
   "source": [
    "with open(\"../output/resultados_g2021.json\") as file:\n",
    "  file_data = json.load(file)\n",
    "\n",
    "db.resultados_g2021.insert_many(file_data)"
   ]
  },
  {
   "cell_type": "markdown",
   "id": "33f548fd",
   "metadata": {},
   "source": [
    "### INEGI + Gini"
   ]
  },
  {
   "cell_type": "code",
   "execution_count": 10,
   "id": "b11ba10c",
   "metadata": {},
   "outputs": [],
   "source": [
    "# with open(\"../output/dataframe_api_1c.js\") as file:\n",
    "#   file_data = json.load(file)\n",
    "\n",
    "# db.dataframe_api_1c.insert_one(file_data)"
   ]
  },
  {
   "cell_type": "code",
   "execution_count": 11,
   "id": "eaf88d6c",
   "metadata": {},
   "outputs": [],
   "source": [
    "# with open(\"../output/dataframe_api_1r.js\") as file:\n",
    "#   file_data = json.load(file)\n",
    "\n",
    "# db.dataframe_api_1r.insert_many(file_data)"
   ]
  },
  {
   "cell_type": "code",
   "execution_count": 12,
   "id": "286b67ca",
   "metadata": {},
   "outputs": [],
   "source": [
    "# with open(\"../output/dataframe_api_2c.js\") as file:\n",
    "#   file_data = json.load(file)\n",
    "\n",
    "# db.dataframe_api_2c.insert_one(file_data)"
   ]
  },
  {
   "cell_type": "code",
   "execution_count": 13,
   "id": "8fff2441",
   "metadata": {},
   "outputs": [],
   "source": [
    "# with open(\"../output/dataframe_api_2r.js\") as file:\n",
    "#   file_data = json.load(file)\n",
    "\n",
    "# db.dataframe_api_2r.insert_many(file_data)"
   ]
  },
  {
   "cell_type": "markdown",
   "id": "7e572da6",
   "metadata": {},
   "source": [
    "### Merged"
   ]
  },
  {
   "cell_type": "code",
   "execution_count": 14,
   "id": "5eef68bc",
   "metadata": {},
   "outputs": [],
   "source": [
    "# with open(\"../output/dataframe_merged_apisc.js\") as file:\n",
    "#   file_data = json.load(file)\n",
    "\n",
    "# db.dataframe_merged_apisc.insert_one(file_data)"
   ]
  },
  {
   "cell_type": "code",
   "execution_count": 15,
   "id": "2be36cd2",
   "metadata": {},
   "outputs": [
    {
     "data": {
      "text/plain": [
       "<pymongo.results.InsertManyResult at 0x1dff589d6c8>"
      ]
     },
     "execution_count": 15,
     "metadata": {},
     "output_type": "execute_result"
    }
   ],
   "source": [
    "with open(\"../output/dataframe_merged_apisr.js\") as file:\n",
    "  file_data = json.load(file)\n",
    "\n",
    "db.dataframe_merged_apisr.insert_many(file_data)"
   ]
  },
  {
   "cell_type": "markdown",
   "id": "633a34e6",
   "metadata": {},
   "source": [
    "### Iter"
   ]
  },
  {
   "cell_type": "code",
   "execution_count": 16,
   "id": "beca6904",
   "metadata": {},
   "outputs": [],
   "source": [
    "# with open(\"../output/iter_1920c.js\") as file:\n",
    "#   file_data = json.load(file)\n",
    "\n",
    "# db.iter_1920c.insert_one(file_data)"
   ]
  },
  {
   "cell_type": "code",
   "execution_count": 17,
   "id": "1777378f",
   "metadata": {},
   "outputs": [
    {
     "data": {
      "text/plain": [
       "<pymongo.results.InsertManyResult at 0x1dff6d87a08>"
      ]
     },
     "execution_count": 17,
     "metadata": {},
     "output_type": "execute_result"
    }
   ],
   "source": [
    "with open(\"../output/iter_1920r.js\") as file:\n",
    "  file_data = json.load(file)\n",
    "\n",
    "db.iter_1920r.insert_many(file_data)"
   ]
  }
 ],
 "metadata": {
  "kernelspec": {
   "display_name": "Python [conda env:PythonData]",
   "language": "python",
   "name": "conda-env-PythonData-py"
  },
  "language_info": {
   "codemirror_mode": {
    "name": "ipython",
    "version": 3
   },
   "file_extension": ".py",
   "mimetype": "text/x-python",
   "name": "python",
   "nbconvert_exporter": "python",
   "pygments_lexer": "ipython3",
   "version": "3.6.10"
  }
 },
 "nbformat": 4,
 "nbformat_minor": 5
}
