{
 "cells": [
  {
   "cell_type": "markdown",
   "metadata": {},
   "source": [
    "## Importing Dependencies"
   ]
  },
  {
   "cell_type": "code",
   "execution_count": 2,
   "metadata": {},
   "outputs": [],
   "source": [
    "import pandas as pd\n",
    "import requests\n",
    "import json"
   ]
  },
  {
   "cell_type": "markdown",
   "metadata": {},
   "source": [
    "## Storing API Links into variables"
   ]
  },
  {
   "cell_type": "code",
   "execution_count": 4,
   "metadata": {},
   "outputs": [],
   "source": [
    "api_1 = \"https://datamexico.org/api/data?State=19&Year=2018&cube=coneval_gini_mun&drilldowns=Municipality&measures=GINI&parents=true&sparse=false&locale=es\"\n",
    "api_2 = \"https://datamexico.org/api/data?State=19&Year=2015&cube=inegi_population&drilldowns=Municipality&measures=Population&parents=false&sparse=false&locale=es\""
   ]
  },
  {
   "cell_type": "code",
   "execution_count": 26,
   "metadata": {},
   "outputs": [
    {
     "data": {
      "text/plain": [
       "['Nation ID',\n",
       " 'Nation',\n",
       " 'State ID',\n",
       " 'State',\n",
       " 'Municipality ID',\n",
       " 'Municipality',\n",
       " 'GINI']"
      ]
     },
     "execution_count": 26,
     "metadata": {},
     "output_type": "execute_result"
    }
   ],
   "source": [
    "data_keys = list(data[0].keys())\n",
    "data_keys"
   ]
  },
  {
   "cell_type": "code",
   "execution_count": 46,
   "metadata": {},
   "outputs": [
    {
     "name": "stdout",
     "output_type": "stream",
     "text": [
      "['mex', 'mex', 'mex', 'mex', 'mex', 'mex', 'mex', 'mex', 'mex', 'mex', 'mex', 'mex', 'mex', 'mex', 'mex', 'mex', 'mex', 'mex', 'mex', 'mex', 'mex', 'mex', 'mex', 'mex', 'mex', 'mex', 'mex', 'mex', 'mex', 'mex', 'mex', 'mex', 'mex', 'mex', 'mex', 'mex', 'mex', 'mex', 'mex', 'mex', 'mex', 'mex', 'mex', 'mex', 'mex', 'mex', 'mex', 'mex', 'mex', 'mex', 'mex']\n",
      "['México', 'México', 'México', 'México', 'México', 'México', 'México', 'México', 'México', 'México', 'México', 'México', 'México', 'México', 'México', 'México', 'México', 'México', 'México', 'México', 'México', 'México', 'México', 'México', 'México', 'México', 'México', 'México', 'México', 'México', 'México', 'México', 'México', 'México', 'México', 'México', 'México', 'México', 'México', 'México', 'México', 'México', 'México', 'México', 'México', 'México', 'México', 'México', 'México', 'México', 'México']\n",
      "[19, 19, 19, 19, 19, 19, 19, 19, 19, 19, 19, 19, 19, 19, 19, 19, 19, 19, 19, 19, 19, 19, 19, 19, 19, 19, 19, 19, 19, 19, 19, 19, 19, 19, 19, 19, 19, 19, 19, 19, 19, 19, 19, 19, 19, 19, 19, 19, 19, 19, 19]\n",
      "['Nuevo León', 'Nuevo León', 'Nuevo León', 'Nuevo León', 'Nuevo León', 'Nuevo León', 'Nuevo León', 'Nuevo León', 'Nuevo León', 'Nuevo León', 'Nuevo León', 'Nuevo León', 'Nuevo León', 'Nuevo León', 'Nuevo León', 'Nuevo León', 'Nuevo León', 'Nuevo León', 'Nuevo León', 'Nuevo León', 'Nuevo León', 'Nuevo León', 'Nuevo León', 'Nuevo León', 'Nuevo León', 'Nuevo León', 'Nuevo León', 'Nuevo León', 'Nuevo León', 'Nuevo León', 'Nuevo León', 'Nuevo León', 'Nuevo León', 'Nuevo León', 'Nuevo León', 'Nuevo León', 'Nuevo León', 'Nuevo León', 'Nuevo León', 'Nuevo León', 'Nuevo León', 'Nuevo León', 'Nuevo León', 'Nuevo León', 'Nuevo León', 'Nuevo León', 'Nuevo León', 'Nuevo León', 'Nuevo León', 'Nuevo León', 'Nuevo León']\n",
      "[19001, 19002, 19003, 19004, 19005, 19006, 19007, 19008, 19009, 19010, 19011, 19012, 19013, 19014, 19015, 19016, 19017, 19018, 19019, 19020, 19021, 19022, 19023, 19024, 19025, 19026, 19027, 19028, 19029, 19030, 19031, 19032, 19033, 19034, 19035, 19036, 19037, 19038, 19039, 19040, 19041, 19042, 19043, 19044, 19045, 19046, 19047, 19048, 19049, 19050, 19051]\n",
      "['Abasolo', 'Agualeguas', 'Los Aldamas', 'Allende', 'Anáhuac', 'Apodaca', 'Aramberri', 'Bustamante', 'Cadereyta Jiménez', 'El Carmen', 'Cerralvo', 'Ciénega de Flores', 'China', 'Doctor Arroyo', 'Doctor Coss', 'Doctor González', 'Galeana', 'García', 'San Pedro Garza García', 'General Bravo', 'General Escobedo', 'General Terán', 'General Treviño', 'General Zaragoza', 'General Zuazua', 'Guadalupe', 'Los Herreras', 'Higueras', 'Hualahuises', 'Iturbide', 'Juárez', 'Lampazos de Naranjo', 'Linares', 'Marín', 'Melchor Ocampo', 'Mier y Noriega', 'Mina', 'Montemorelos', 'Monterrey', 'Parás', 'Pesquería', 'Los Ramones', 'Rayones', 'Sabinas Hidalgo', 'Salinas Victoria', 'San Nicolás de los Garza', 'Hidalgo', 'Santa Catarina', 'Santiago', 'Vallecillo', 'Villaldama']\n",
      "[0.39608949422836304, 0.4282120019197464, 0.43546900153160095, 0.3405584990978241, 0.38375499844551086, 0.32352350652217865, 0.46362200379371643, 0.3342664986848831, 0.3680734932422638, 0.3395240008831024, 0.3559134900569916, 0.31255699694156647, 0.36139699816703796, 0.4903104901313782, 0.41352300345897675, 0.4344000071287155, 0.47390249371528625, 0.34960000216960907, 0.3630619943141937, 0.39313800632953644, 0.37177449464797974, 0.4040919989347458, 0.4132149964570999, 0.44894200563430786, 0.3067544996738434, 0.3605865091085434, 0.4398624897003174, 0.41031549870967865, 0.3820144981145859, 0.4339814931154251, 0.33611099421977997, 0.35016100108623505, 0.3800494968891144, 0.36542950570583344, 0.42885400354862213, 0.43868349492549896, 0.3676680028438568, 0.36404699087142944, 0.38700999319553375, 0.4421220123767853, 0.3461969941854477, 0.4165000021457672, 0.4358984977006912, 0.36612948775291443, 0.35779400169849396, 0.33596399426460266, 0.35069701075553894, 0.34813249111175537, 0.349869504570961, 0.4288244992494583, 0.3905095010995865]\n"
     ]
    }
   ],
   "source": [
    "nation_ids = []\n",
    "nations = []\n",
    "states_ids = []\n",
    "states = []\n",
    "municipality_ids = []\n",
    "municipalities = []\n",
    "ginis = []\n",
    "\n",
    "c = 0\n",
    "response = requests.get(api_1)\n",
    "data = response.json()[\"data\"]\n",
    "data_length = len(data)\n",
    "while c < data_lenght:\n",
    "    nation_ids.append(data[c]['Nation ID'])\n",
    "    nations.append(data[c]['Nation'])\n",
    "    states_ids.append(data[c]['State ID'])\n",
    "    states.append(data[c]['State'])\n",
    "    municipality_ids.append(data[c]['Municipality ID'])\n",
    "    municipalities.append(data[c]['Municipality'])\n",
    "    ginis.append(data[c]['GINI'])\n",
    "    c = c + 1\n",
    "\n",
    "print(nation_ids)\n",
    "print(nations)\n",
    "print(states_ids)\n",
    "print(states)\n",
    "print(municipality_ids)\n",
    "print(municipalities)\n",
    "print(ginis)"
   ]
  },
  {
   "cell_type": "code",
   "execution_count": 53,
   "metadata": {},
   "outputs": [
    {
     "data": {
      "text/html": [
       "<div>\n",
       "<style scoped>\n",
       "    .dataframe tbody tr th:only-of-type {\n",
       "        vertical-align: middle;\n",
       "    }\n",
       "\n",
       "    .dataframe tbody tr th {\n",
       "        vertical-align: top;\n",
       "    }\n",
       "\n",
       "    .dataframe thead th {\n",
       "        text-align: right;\n",
       "    }\n",
       "</style>\n",
       "<table border=\"1\" class=\"dataframe\">\n",
       "  <thead>\n",
       "    <tr style=\"text-align: right;\">\n",
       "      <th></th>\n",
       "      <th>Nations ID</th>\n",
       "      <th>Nation</th>\n",
       "      <th>State ID</th>\n",
       "      <th>State</th>\n",
       "      <th>Municipality ID</th>\n",
       "      <th>Municipality</th>\n",
       "      <th>GINI</th>\n",
       "    </tr>\n",
       "  </thead>\n",
       "  <tbody>\n",
       "    <tr>\n",
       "      <th>0</th>\n",
       "      <td>mex</td>\n",
       "      <td>México</td>\n",
       "      <td>19</td>\n",
       "      <td>Nuevo León</td>\n",
       "      <td>19001</td>\n",
       "      <td>Abasolo</td>\n",
       "      <td>0.396089</td>\n",
       "    </tr>\n",
       "    <tr>\n",
       "      <th>1</th>\n",
       "      <td>mex</td>\n",
       "      <td>México</td>\n",
       "      <td>19</td>\n",
       "      <td>Nuevo León</td>\n",
       "      <td>19002</td>\n",
       "      <td>Agualeguas</td>\n",
       "      <td>0.428212</td>\n",
       "    </tr>\n",
       "    <tr>\n",
       "      <th>2</th>\n",
       "      <td>mex</td>\n",
       "      <td>México</td>\n",
       "      <td>19</td>\n",
       "      <td>Nuevo León</td>\n",
       "      <td>19003</td>\n",
       "      <td>Los Aldamas</td>\n",
       "      <td>0.435469</td>\n",
       "    </tr>\n",
       "    <tr>\n",
       "      <th>3</th>\n",
       "      <td>mex</td>\n",
       "      <td>México</td>\n",
       "      <td>19</td>\n",
       "      <td>Nuevo León</td>\n",
       "      <td>19004</td>\n",
       "      <td>Allende</td>\n",
       "      <td>0.340558</td>\n",
       "    </tr>\n",
       "    <tr>\n",
       "      <th>4</th>\n",
       "      <td>mex</td>\n",
       "      <td>México</td>\n",
       "      <td>19</td>\n",
       "      <td>Nuevo León</td>\n",
       "      <td>19005</td>\n",
       "      <td>Anáhuac</td>\n",
       "      <td>0.383755</td>\n",
       "    </tr>\n",
       "  </tbody>\n",
       "</table>\n",
       "</div>"
      ],
      "text/plain": [
       "  Nations ID  Nation  State ID       State  Municipality ID Municipality  \\\n",
       "0        mex  México        19  Nuevo León            19001      Abasolo   \n",
       "1        mex  México        19  Nuevo León            19002   Agualeguas   \n",
       "2        mex  México        19  Nuevo León            19003  Los Aldamas   \n",
       "3        mex  México        19  Nuevo León            19004      Allende   \n",
       "4        mex  México        19  Nuevo León            19005      Anáhuac   \n",
       "\n",
       "       GINI  \n",
       "0  0.396089  \n",
       "1  0.428212  \n",
       "2  0.435469  \n",
       "3  0.340558  \n",
       "4  0.383755  "
      ]
     },
     "execution_count": 53,
     "metadata": {},
     "output_type": "execute_result"
    }
   ],
   "source": [
    "api_1_df = pd.DataFrame({\"Nations ID\":nation_ids,\n",
    "                        \"Nation\":nations,\n",
    "                        \"State ID\":states_ids,\n",
    "                        \"State\":states,\n",
    "                        \"Municipality ID\":municipality_ids,\n",
    "                        \"Municipality\":municipalities,\n",
    "                        \"GINI\":ginis})\n",
    "api_1_df.head()"
   ]
  },
  {
   "cell_type": "code",
   "execution_count": 56,
   "metadata": {},
   "outputs": [
    {
     "ename": "FileNotFoundError",
     "evalue": "[Errno 2] No such file or directory: 'outputs/dataframe_api_1.csv'",
     "output_type": "error",
     "traceback": [
      "\u001b[1;31m---------------------------------------------------------------------------\u001b[0m",
      "\u001b[1;31mFileNotFoundError\u001b[0m                         Traceback (most recent call last)",
      "\u001b[1;32m<ipython-input-56-c828616dfa4a>\u001b[0m in \u001b[0;36m<module>\u001b[1;34m\u001b[0m\n\u001b[1;32m----> 1\u001b[1;33m \u001b[0mapi_1_df\u001b[0m\u001b[1;33m.\u001b[0m\u001b[0mto_csv\u001b[0m\u001b[1;33m(\u001b[0m\u001b[1;34m\"outputs/dataframe_api_1.csv\"\u001b[0m\u001b[1;33m,\u001b[0m \u001b[0mindex\u001b[0m \u001b[1;33m=\u001b[0m \u001b[1;32mTrue\u001b[0m\u001b[1;33m)\u001b[0m\u001b[1;33m\u001b[0m\u001b[1;33m\u001b[0m\u001b[0m\n\u001b[0m",
      "\u001b[1;32m~\\anaconda3\\lib\\site-packages\\pandas\\core\\generic.py\u001b[0m in \u001b[0;36mto_csv\u001b[1;34m(self, path_or_buf, sep, na_rep, float_format, columns, header, index, index_label, mode, encoding, compression, quoting, quotechar, line_terminator, chunksize, date_format, doublequote, escapechar, decimal, errors)\u001b[0m\n\u001b[0;32m   3168\u001b[0m             \u001b[0mdecimal\u001b[0m\u001b[1;33m=\u001b[0m\u001b[0mdecimal\u001b[0m\u001b[1;33m,\u001b[0m\u001b[1;33m\u001b[0m\u001b[1;33m\u001b[0m\u001b[0m\n\u001b[0;32m   3169\u001b[0m         )\n\u001b[1;32m-> 3170\u001b[1;33m         \u001b[0mformatter\u001b[0m\u001b[1;33m.\u001b[0m\u001b[0msave\u001b[0m\u001b[1;33m(\u001b[0m\u001b[1;33m)\u001b[0m\u001b[1;33m\u001b[0m\u001b[1;33m\u001b[0m\u001b[0m\n\u001b[0m\u001b[0;32m   3171\u001b[0m \u001b[1;33m\u001b[0m\u001b[0m\n\u001b[0;32m   3172\u001b[0m         \u001b[1;32mif\u001b[0m \u001b[0mpath_or_buf\u001b[0m \u001b[1;32mis\u001b[0m \u001b[1;32mNone\u001b[0m\u001b[1;33m:\u001b[0m\u001b[1;33m\u001b[0m\u001b[1;33m\u001b[0m\u001b[0m\n",
      "\u001b[1;32m~\\anaconda3\\lib\\site-packages\\pandas\\io\\formats\\csvs.py\u001b[0m in \u001b[0;36msave\u001b[1;34m(self)\u001b[0m\n\u001b[0;32m    183\u001b[0m             \u001b[0mclose\u001b[0m \u001b[1;33m=\u001b[0m \u001b[1;32mFalse\u001b[0m\u001b[1;33m\u001b[0m\u001b[1;33m\u001b[0m\u001b[0m\n\u001b[0;32m    184\u001b[0m         \u001b[1;32melse\u001b[0m\u001b[1;33m:\u001b[0m\u001b[1;33m\u001b[0m\u001b[1;33m\u001b[0m\u001b[0m\n\u001b[1;32m--> 185\u001b[1;33m             f, handles = get_handle(\n\u001b[0m\u001b[0;32m    186\u001b[0m                 \u001b[0mself\u001b[0m\u001b[1;33m.\u001b[0m\u001b[0mpath_or_buf\u001b[0m\u001b[1;33m,\u001b[0m\u001b[1;33m\u001b[0m\u001b[1;33m\u001b[0m\u001b[0m\n\u001b[0;32m    187\u001b[0m                 \u001b[0mself\u001b[0m\u001b[1;33m.\u001b[0m\u001b[0mmode\u001b[0m\u001b[1;33m,\u001b[0m\u001b[1;33m\u001b[0m\u001b[1;33m\u001b[0m\u001b[0m\n",
      "\u001b[1;32m~\\anaconda3\\lib\\site-packages\\pandas\\io\\common.py\u001b[0m in \u001b[0;36mget_handle\u001b[1;34m(path_or_buf, mode, encoding, compression, memory_map, is_text, errors)\u001b[0m\n\u001b[0;32m    491\u001b[0m         \u001b[1;32mif\u001b[0m \u001b[0mencoding\u001b[0m\u001b[1;33m:\u001b[0m\u001b[1;33m\u001b[0m\u001b[1;33m\u001b[0m\u001b[0m\n\u001b[0;32m    492\u001b[0m             \u001b[1;31m# Encoding\u001b[0m\u001b[1;33m\u001b[0m\u001b[1;33m\u001b[0m\u001b[1;33m\u001b[0m\u001b[0m\n\u001b[1;32m--> 493\u001b[1;33m             \u001b[0mf\u001b[0m \u001b[1;33m=\u001b[0m \u001b[0mopen\u001b[0m\u001b[1;33m(\u001b[0m\u001b[0mpath_or_buf\u001b[0m\u001b[1;33m,\u001b[0m \u001b[0mmode\u001b[0m\u001b[1;33m,\u001b[0m \u001b[0mencoding\u001b[0m\u001b[1;33m=\u001b[0m\u001b[0mencoding\u001b[0m\u001b[1;33m,\u001b[0m \u001b[0merrors\u001b[0m\u001b[1;33m=\u001b[0m\u001b[0merrors\u001b[0m\u001b[1;33m,\u001b[0m \u001b[0mnewline\u001b[0m\u001b[1;33m=\u001b[0m\u001b[1;34m\"\"\u001b[0m\u001b[1;33m)\u001b[0m\u001b[1;33m\u001b[0m\u001b[1;33m\u001b[0m\u001b[0m\n\u001b[0m\u001b[0;32m    494\u001b[0m         \u001b[1;32melif\u001b[0m \u001b[0mis_text\u001b[0m\u001b[1;33m:\u001b[0m\u001b[1;33m\u001b[0m\u001b[1;33m\u001b[0m\u001b[0m\n\u001b[0;32m    495\u001b[0m             \u001b[1;31m# No explicit encoding\u001b[0m\u001b[1;33m\u001b[0m\u001b[1;33m\u001b[0m\u001b[1;33m\u001b[0m\u001b[0m\n",
      "\u001b[1;31mFileNotFoundError\u001b[0m: [Errno 2] No such file or directory: 'outputs/dataframe_api_1.csv'"
     ]
    }
   ],
   "source": []
  },
  {
   "cell_type": "code",
   "execution_count": 48,
   "metadata": {},
   "outputs": [
    {
     "name": "stdout",
     "output_type": "stream",
     "text": [
      "[19001, 19002, 19003, 19004, 19005, 19006, 19007, 19008, 19009, 19010, 19011, 19012, 19013, 19014, 19015, 19016, 19017, 19018, 19019, 19020, 19021, 19022, 19023, 19024, 19025, 19026, 19027, 19028, 19029, 19030, 19031, 19032, 19033, 19034, 19035, 19036, 19037, 19038, 19039, 19040, 19041, 19042, 19043, 19044, 19045, 19046, 19047, 19048, 19049, 19050, 19051]\n",
      "['Abasolo', 'Agualeguas', 'Los Aldamas', 'Allende', 'Anáhuac', 'Apodaca', 'Aramberri', 'Bustamante', 'Cadereyta Jiménez', 'El Carmen', 'Cerralvo', 'Ciénega de Flores', 'China', 'Doctor Arroyo', 'Doctor Coss', 'Doctor González', 'Galeana', 'García', 'San Pedro Garza García', 'General Bravo', 'General Escobedo', 'General Terán', 'General Treviño', 'General Zaragoza', 'General Zuazua', 'Guadalupe', 'Los Herreras', 'Higueras', 'Hualahuises', 'Iturbide', 'Juárez', 'Lampazos de Naranjo', 'Linares', 'Marín', 'Melchor Ocampo', 'Mier y Noriega', 'Mina', 'Montemorelos', 'Monterrey', 'Parás', 'Pesquería', 'Los Ramones', 'Rayones', 'Sabinas Hidalgo', 'Salinas Victoria', 'San Nicolás de los Garza', 'Hidalgo', 'Santa Catarina', 'Santiago', 'Vallecillo', 'Villaldama']\n",
      "[2639, 2439, 1292, 34353, 18194, 597207, 16152, 3977, 95534, 38306, 7757, 42715, 10835, 34110, 1632, 2861, 41130, 247370, 123156, 5479, 425148, 14795, 1044, 6011, 67294, 682880, 1764, 1511, 6921, 3571, 333481, 5238, 79853, 5630, 955, 6996, 5326, 60829, 1109171, 971, 87168, 4469, 2640, 35456, 54192, 430143, 13836, 296954, 42407, 1632, 4080]\n"
     ]
    }
   ],
   "source": [
    "municipality_id_2 = []\n",
    "municipality_2 = []\n",
    "populations = []\n",
    "\n",
    "c = 0\n",
    "response = requests.get(api_2)\n",
    "data_2 = response.json()[\"data\"]\n",
    "data_length = len(data_2)\n",
    "while c < data_lenght:\n",
    "    municipality_id_2.append(data[c]['Municipality ID'])\n",
    "    municipality_2.append(data[c]['Municipality'])\n",
    "    populations.append(data[c]['Population'])\n",
    "    c = c + 1\n",
    "\n",
    "print(municipality_id_2)\n",
    "print(municipality_2)\n",
    "print(populations)\n"
   ]
  },
  {
   "cell_type": "code",
   "execution_count": 52,
   "metadata": {},
   "outputs": [
    {
     "data": {
      "text/html": [
       "<div>\n",
       "<style scoped>\n",
       "    .dataframe tbody tr th:only-of-type {\n",
       "        vertical-align: middle;\n",
       "    }\n",
       "\n",
       "    .dataframe tbody tr th {\n",
       "        vertical-align: top;\n",
       "    }\n",
       "\n",
       "    .dataframe thead th {\n",
       "        text-align: right;\n",
       "    }\n",
       "</style>\n",
       "<table border=\"1\" class=\"dataframe\">\n",
       "  <thead>\n",
       "    <tr style=\"text-align: right;\">\n",
       "      <th></th>\n",
       "      <th>Municipality ID</th>\n",
       "      <th>Municipality</th>\n",
       "      <th>Population</th>\n",
       "    </tr>\n",
       "  </thead>\n",
       "  <tbody>\n",
       "    <tr>\n",
       "      <th>0</th>\n",
       "      <td>19001</td>\n",
       "      <td>Abasolo</td>\n",
       "      <td>2639</td>\n",
       "    </tr>\n",
       "    <tr>\n",
       "      <th>1</th>\n",
       "      <td>19002</td>\n",
       "      <td>Agualeguas</td>\n",
       "      <td>2439</td>\n",
       "    </tr>\n",
       "    <tr>\n",
       "      <th>2</th>\n",
       "      <td>19003</td>\n",
       "      <td>Los Aldamas</td>\n",
       "      <td>1292</td>\n",
       "    </tr>\n",
       "    <tr>\n",
       "      <th>3</th>\n",
       "      <td>19004</td>\n",
       "      <td>Allende</td>\n",
       "      <td>34353</td>\n",
       "    </tr>\n",
       "    <tr>\n",
       "      <th>4</th>\n",
       "      <td>19005</td>\n",
       "      <td>Anáhuac</td>\n",
       "      <td>18194</td>\n",
       "    </tr>\n",
       "  </tbody>\n",
       "</table>\n",
       "</div>"
      ],
      "text/plain": [
       "   Municipality ID Municipality  Population\n",
       "0            19001      Abasolo        2639\n",
       "1            19002   Agualeguas        2439\n",
       "2            19003  Los Aldamas        1292\n",
       "3            19004      Allende       34353\n",
       "4            19005      Anáhuac       18194"
      ]
     },
     "execution_count": 52,
     "metadata": {},
     "output_type": "execute_result"
    }
   ],
   "source": [
    "api_2_df = pd.DataFrame({\"Municipality ID\":municipality_id_2,\n",
    "                        \"Municipality\":municipality_2,\n",
    "                        \"Population\":populations})\n",
    "api_2_df.head()"
   ]
  },
  {
   "cell_type": "code",
   "execution_count": null,
   "metadata": {},
   "outputs": [],
   "source": []
  }
 ],
 "metadata": {
  "kernelspec": {
   "display_name": "Python 3",
   "language": "python",
   "name": "python3"
  },
  "language_info": {
   "codemirror_mode": {
    "name": "ipython",
    "version": 3
   },
   "file_extension": ".py",
   "mimetype": "text/x-python",
   "name": "python",
   "nbconvert_exporter": "python",
   "pygments_lexer": "ipython3",
   "version": "3.8.5"
  }
 },
 "nbformat": 4,
 "nbformat_minor": 4
}
