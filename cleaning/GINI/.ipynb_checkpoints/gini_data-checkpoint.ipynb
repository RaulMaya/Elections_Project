{
 "cells": [
  {
   "cell_type": "markdown",
   "metadata": {},
   "source": [
    "## Importing Dependencies"
   ]
  },
  {
   "cell_type": "code",
   "execution_count": null,
   "metadata": {},
   "outputs": [],
   "source": [
    "import pandas as pd\n",
    "import requests\n",
    "import json"
   ]
  },
  {
   "cell_type": "markdown",
   "metadata": {},
   "source": [
    "## Storing API Links into variables"
   ]
  },
  {
   "cell_type": "code",
   "execution_count": null,
   "metadata": {},
   "outputs": [],
   "source": [
    "api_1 = \"https://datamexico.org/api/data?State=19&Year=2018&cube=coneval_gini_mun&drilldowns=Municipality&measures=GINI&parents=true&sparse=false&locale=es\"\n",
    "api_2 = \"https://datamexico.org/api/data?State=19&Year=2015&cube=inegi_population&drilldowns=Municipality&measures=Population&parents=false&sparse=false&locale=es\""
   ]
  },
  {
   "cell_type": "code",
   "execution_count": null,
   "metadata": {},
   "outputs": [],
   "source": [
    "nation_ids = []\n",
    "nations = []\n",
    "states_ids = []\n",
    "states = []\n",
    "municipality_ids = []\n",
    "municipalities = []\n",
    "ginis = []\n",
    "\n",
    "c = 0\n",
    "response = requests.get(api_1)\n",
    "data = response.json()[\"data\"]\n",
    "data_length = len(data)\n",
    "while c < data_length:\n",
    "    nation_ids.append(data[c]['Nation ID'])\n",
    "    nations.append(data[c]['Nation'])\n",
    "    states_ids.append(data[c]['State ID'])\n",
    "    states.append(data[c]['State'])\n",
    "    municipality_ids.append(data[c]['Municipality ID'])\n",
    "    municipalities.append(data[c]['Municipality'])\n",
    "    ginis.append(data[c]['GINI'])\n",
    "    c = c + 1"
   ]
  },
  {
   "cell_type": "code",
   "execution_count": null,
   "metadata": {},
   "outputs": [],
   "source": [
    "api_1_df = pd.DataFrame({\"Nations ID\":nation_ids,\n",
    "                        \"Nation\":nations,\n",
    "                        \"State ID\":states_ids,\n",
    "                        \"State\":states,\n",
    "                        \"ID\":municipality_ids,\n",
    "                        \"Municipality\":municipalities,\n",
    "                        \"GINI\":ginis})\n",
    "api_1_df.head()"
   ]
  },
  {
   "cell_type": "code",
   "execution_count": null,
   "metadata": {},
   "outputs": [],
   "source": [
    "api_1_df.to_csv(\"outputs/dataframe_api_1.csv\", index = True)"
   ]
  },
  {
   "cell_type": "code",
   "execution_count": null,
   "metadata": {},
   "outputs": [],
   "source": [
    "api_1_df.to_json(\"outputs/dataframe_api_1.js\")"
   ]
  },
  {
   "cell_type": "code",
   "execution_count": null,
   "metadata": {},
   "outputs": [],
   "source": [
    "municipality_id_2 = []\n",
    "municipality_2 = []\n",
    "populations = []\n",
    "\n",
    "c = 0\n",
    "response = requests.get(api_2)\n",
    "data_2 = response.json()[\"data\"]\n",
    "data_length = len(data_2)\n",
    "while c < data_length:\n",
    "    municipality_id_2.append(data[c]['Municipality ID'])\n",
    "    municipality_2.append(data[c]['Municipality'])\n",
    "    populations.append(data_2[c][\"Population\"])\n",
    "    c = c + 1"
   ]
  },
  {
   "cell_type": "code",
   "execution_count": null,
   "metadata": {},
   "outputs": [],
   "source": [
    "api_2_df = pd.DataFrame({\"ID\":municipality_id_2,\n",
    "                        \"Municipality\":municipality_2,\n",
    "                        \"Population\":populations})\n",
    "\n",
    "api_2_df.head()"
   ]
  },
  {
   "cell_type": "code",
   "execution_count": null,
   "metadata": {},
   "outputs": [],
   "source": [
    "api_2_df.to_csv(\"outputs/dataframe_api_2.csv\", index = True)"
   ]
  },
  {
   "cell_type": "code",
   "execution_count": null,
   "metadata": {},
   "outputs": [],
   "source": [
    "api_2_df.to_json(\"outputs/dataframe_api_2.js\")"
   ]
  },
  {
   "cell_type": "code",
   "execution_count": null,
   "metadata": {},
   "outputs": [],
   "source": [
    "merged_apis = pd.merge(api_1_df, api_2_df, how = \"inner\")\n",
    "merged_apis.head()"
   ]
  },
  {
   "cell_type": "code",
   "execution_count": null,
   "metadata": {},
   "outputs": [],
   "source": [
    "merged_apis.to_csv(\"outputs/dataframe_merged_apis.csv\", index = True)"
   ]
  },
  {
   "cell_type": "code",
   "execution_count": null,
   "metadata": {},
   "outputs": [],
   "source": [
    "merged_apis.to_json(\"outputs/dataframe_merged_apis.js\")"
   ]
  }
 ],
 "metadata": {
  "kernelspec": {
   "display_name": "Python 3",
   "language": "python",
   "name": "python3"
  },
  "language_info": {
   "codemirror_mode": {
    "name": "ipython",
    "version": 3
   },
   "file_extension": ".py",
   "mimetype": "text/x-python",
   "name": "python",
   "nbconvert_exporter": "python",
   "pygments_lexer": "ipython3",
   "version": "3.8.5"
  }
 },
 "nbformat": 4,
 "nbformat_minor": 4
}
